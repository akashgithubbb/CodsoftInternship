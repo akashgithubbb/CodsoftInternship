{
  "nbformat": 4,
  "nbformat_minor": 0,
  "metadata": {
    "colab": {
      "provenance": [],
      "authorship_tag": "ABX9TyMc+BQiPH/z34kBDHWZ0094",
      "include_colab_link": true
    },
    "kernelspec": {
      "name": "python3",
      "display_name": "Python 3"
    },
    "language_info": {
      "name": "python"
    }
  },
  "cells": [
    {
      "cell_type": "markdown",
      "metadata": {
        "id": "view-in-github",
        "colab_type": "text"
      },
      "source": [
        "<a href=\"https://colab.research.google.com/github/akashgithubbb/CodsoftInternship/blob/main/SPAM_SMS_DETECTION.ipynb\" target=\"_parent\"><img src=\"https://colab.research.google.com/assets/colab-badge.svg\" alt=\"Open In Colab\"/></a>"
      ]
    },
    {
      "cell_type": "code",
      "execution_count": 10,
      "metadata": {
        "colab": {
          "base_uri": "https://localhost:8080/"
        },
        "id": "J4bjISANpoZa",
        "outputId": "8beb30cc-787d-4eef-cf3a-f99bb0fb334a"
      },
      "outputs": [
        {
          "output_type": "stream",
          "name": "stdout",
          "text": [
            "Naive Bayes Accuracy: 0.98\n",
            "\n",
            "Naive Bayes Classification Report:\n",
            "               precision    recall  f1-score   support\n",
            "\n",
            "         ham       0.97      1.00      0.99       966\n",
            "        spam       1.00      0.83      0.90       149\n",
            "\n",
            "    accuracy                           0.98      1115\n",
            "   macro avg       0.99      0.91      0.95      1115\n",
            "weighted avg       0.98      0.98      0.98      1115\n",
            "\n",
            "Logistic Regression Accuracy: 0.97\n",
            "\n",
            "Logistic Regression Classification Report:\n",
            "               precision    recall  f1-score   support\n",
            "\n",
            "         ham       0.96      1.00      0.98       966\n",
            "        spam       1.00      0.76      0.86       149\n",
            "\n",
            "    accuracy                           0.97      1115\n",
            "   macro avg       0.98      0.88      0.92      1115\n",
            "weighted avg       0.97      0.97      0.97      1115\n",
            "\n",
            "SVM Accuracy: 0.98\n",
            "\n",
            "SVM Classification Report:\n",
            "               precision    recall  f1-score   support\n",
            "\n",
            "         ham       0.98      1.00      0.99       966\n",
            "        spam       1.00      0.89      0.94       149\n",
            "\n",
            "    accuracy                           0.98      1115\n",
            "   macro avg       0.99      0.94      0.97      1115\n",
            "weighted avg       0.99      0.98      0.98      1115\n",
            "\n"
          ]
        }
      ],
      "source": [
        "import pandas as pd\n",
        "from sklearn.model_selection import train_test_split\n",
        "from sklearn.feature_extraction.text import TfidfVectorizer\n",
        "from sklearn.naive_bayes import MultinomialNB\n",
        "from sklearn.linear_model import LogisticRegression\n",
        "from sklearn.svm import SVC\n",
        "from sklearn.metrics import accuracy_score, classification_report\n",
        "\n",
        "# Load your SMS dataset\n",
        "df = pd.read_csv('spam.csv')\n",
        "\n",
        "# Split the dataset into training and testing sets\n",
        "X_train, X_test, y_train, y_test = train_test_split(df['Message'], df['Category'], test_size=0.2, random_state=42)\n",
        "\n",
        "# Convert text data to TF-IDF features\n",
        "tfidf_vectorizer = TfidfVectorizer(stop_words='english')\n",
        "X_train_tfidf = tfidf_vectorizer.fit_transform(X_train)\n",
        "X_test_tfidf = tfidf_vectorizer.transform(X_test)\n",
        "\n",
        "# Train Naive Bayes classifier\n",
        "naive_bayes = MultinomialNB()\n",
        "naive_bayes.fit(X_train_tfidf, y_train)\n",
        "predictions_nb = naive_bayes.predict(X_test_tfidf)\n",
        "\n",
        "# Train Logistic Regression classifier\n",
        "logistic_regression = LogisticRegression()\n",
        "logistic_regression.fit(X_train_tfidf, y_train)\n",
        "predictions_lr = logistic_regression.predict(X_test_tfidf)\n",
        "\n",
        "# Train Support Vector Machines (SVM) classifier\n",
        "svm_classifier = SVC()\n",
        "svm_classifier.fit(X_train_tfidf, y_train)\n",
        "predictions_svm = svm_classifier.predict(X_test_tfidf)\n",
        "\n",
        "# Evaluate the models\n",
        "def evaluate_model(predictions, model_name):\n",
        "    accuracy = accuracy_score(y_test, predictions)\n",
        "    print(f'{model_name} Accuracy: {accuracy:.2f}\\n')\n",
        "    print(f'{model_name} Classification Report:\\n', classification_report(y_test, predictions))\n",
        "\n",
        "evaluate_model(predictions_nb, 'Naive Bayes')\n",
        "evaluate_model(predictions_lr, 'Logistic Regression')\n",
        "evaluate_model(predictions_svm, 'SVM')\n"
      ]
    }
  ]
}